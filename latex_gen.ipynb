{
 "cells": [
  {
   "cell_type": "code",
   "execution_count": 1,
   "metadata": {},
   "outputs": [],
   "source": [
    "#| default_exp core"
   ]
  },
  {
   "cell_type": "code",
   "execution_count": 2,
   "metadata": {},
   "outputs": [],
   "source": [
    "#|export\n",
    "from __future__ import annotations\n",
    "from IPython.display import Markdown, display\n",
    "import os, re\n",
    "from dataclasses import dataclass\n",
    "from typing import Union, Optional, Any, Collection, Iterable, TypeVar\n",
    "\n",
    "from nbdev.export import nb_export"
   ]
  },
  {
   "cell_type": "markdown",
   "metadata": {},
   "source": [
    "# V0 Plans\n",
    "\n",
    "Class for things that can be used in math text - as exponents, subscripts etc\n",
    "\n",
    "Class for environments - align, equation, etc\n",
    "\n",
    "Use IPython display to render\n",
    "\n",
    "# References\n",
    "\n",
    "[Emulating numeric types docs](https://docs.python.org/3/reference/datamodel.html#emulating-numeric-types)"
   ]
  },
  {
   "cell_type": "markdown",
   "metadata": {},
   "source": [
    "# Code"
   ]
  },
  {
   "cell_type": "code",
   "execution_count": 3,
   "metadata": {},
   "outputs": [],
   "source": [
    "#|export\n",
    "def to_node(x: TNS) -> TexNode:\n",
    "    \"\"\"\n",
    "    Converts a raw string to a TexAtom\n",
    "    Returns a TexNode unaltered\n",
    "    \"\"\"\n",
    "    if isinstance(x, str):\n",
    "        return TexAtom(x)\n",
    "    else:\n",
    "        return x\n",
    "\n",
    "class TexBase:\n",
    "    @property\n",
    "    def tex(self) -> str:\n",
    "        raise NotImplementedError(\"Children should implement this\")\n",
    "\n",
    "    def display(self) -> None:\n",
    "        display(Markdown(\"$$\" + self.tex + \"$$\"))\n",
    "\n",
    "class TexNode(TexBase):\n",
    "    # Methods to mimic arithmetic\n",
    "    # TODO parenthesize objects as needed.\n",
    "    # Maybe by having that as a property of each object\n",
    "    # and making a tex_p property that adds parens if needed\n",
    "    \n",
    "    # Use self + other\n",
    "    def __add__(self, other: TexNode) -> TexSequence:\n",
    "        return TexSequence((self, to_node(other)))\n",
    "\n",
    "    # Use self ** other\n",
    "    def __pow__(self, other: TexNode) -> TexPow:\n",
    "        return TexPow(self, other)\n",
    "\n",
    "    # Use self / other\n",
    "    def __truediv__(self, other: TexNode) -> TexFrac:\n",
    "        return TexFrac(self, other)\n",
    "\n",
    "\n",
    "    def __mul__(self, other: TexNode) -> TexFrac:\n",
    "        return TexProd(self, other)\n",
    "    \n",
    "class TexAtom(TexNode):\n",
    "    s: str\n",
    "    def __init__(self, s: str) -> None:\n",
    "        super().__init__()\n",
    "        self.s = s\n",
    "    \n",
    "    @property\n",
    "    def tex(self) -> str:\n",
    "        return self.s\n",
    "\n",
    "\n",
    "TNS = TypeVar(\"TNS\", bound=str|TexNode)\n",
    "\n",
    "class TexSequence(TexNode):\n",
    "    children: tuple[TexNode, ...]\n",
    "    def __init__(self, children: Collection[TexNode]) -> None:\n",
    "        super().__init__()\n",
    "        self.children = tuple(children)\n",
    "    \n",
    "    @property\n",
    "    def tex(self) -> str:\n",
    "        return \" \".join([c.tex for c in self.children])\n",
    "\n",
    "class TexPow(TexNode):\n",
    "    base: TexNode\n",
    "    exp: TexNode\n",
    "    def __init__(self, base: TNS, exp: TNS) -> None:\n",
    "        super().__init__()\n",
    "        self.base = to_node(base)\n",
    "        self.exp = to_node(exp)\n",
    "    \n",
    "    @property\n",
    "    def tex(self) -> str:\n",
    "        return self.base.tex + \"^{\" + self.exp.tex + \"}\"\n",
    "\n",
    "class TexProd(TexNode):\n",
    "    def __init__(self, l: TNS, r: TNS) -> None:\n",
    "        super().__init__()\n",
    "        self.l, self.r = to_node(l), to_node(r)\n",
    "\n",
    "    @property\n",
    "    def tex(self) -> str:\n",
    "        return self.l.tex + \" \\\\cdot \" + self.r.tex\n",
    "\n",
    "class TexFrac(TexNode):\n",
    "    def __init__(self, num: TNS, den: TNS) -> None:\n",
    "        super().__init__()\n",
    "        self.num = to_node(num)\n",
    "        self.den = to_node(den)\n",
    "\n",
    "    @property\n",
    "    def tex(self) -> str:\n",
    "        return \"\\\\frac{\" + self.num.tex + \"}\" + \"{\" + self.den.tex + \"}\"\n",
    "\n",
    "class TexColored(TexNode):\n",
    "    child: TexNode\n",
    "    color: str\n",
    "    def __init__(self, child: TNS, color: str) -> None:\n",
    "        super().__init__()\n",
    "        child = to_node(child)\n",
    "        self.child = child\n",
    "        self.color = color\n",
    "    \n",
    "    @property\n",
    "    def tex(self) -> str:\n",
    "        return \"{\\\\color{\" + self.color + \"}\" + self.child.tex + \"}\"\n",
    "    "
   ]
  },
  {
   "cell_type": "code",
   "execution_count": 4,
   "metadata": {},
   "outputs": [],
   "source": [
    "#|export\n",
    "def jointex(sep: str,  children: Collection[TexNode]) -> TexAtom:\n",
    "    s = \"\"\n",
    "    for i, c in enumerate(children):\n",
    "        s += c.tex\n",
    "        if i < len(children) - 1:\n",
    "            s += sep\n",
    "    return TexAtom(s)"
   ]
  },
  {
   "cell_type": "code",
   "execution_count": 5,
   "metadata": {},
   "outputs": [],
   "source": [
    "#|export\n",
    "class TexEnvironment(TexBase):\n",
    "    def __init__(self, nm: str) -> None:\n",
    "        super().__init__()\n",
    "        self.nm = nm\n",
    "    \n",
    "    @property\n",
    "    def begin_tex(self) -> str:\n",
    "        return \"\\\\begin{\" + self.nm + \"}\"\n",
    "    \n",
    "    @property\n",
    "    def end_tex(self) -> str:\n",
    "        return \"\\\\end{\" + self.nm + \"}\"\n",
    "\n",
    "class TexList(TexEnvironment):\n",
    "    # Should nm instead be a class-level attribute?\n",
    "    def __init__(self,nm: str, children: Collection[TNS]) -> None:\n",
    "        super().__init__(nm)\n",
    "        self.children  = tuple([to_node(c) for c in children])\n",
    "\n",
    "    @property\n",
    "    def tex(self) -> str:\n",
    "        lines = jointex(\"\\\\\\\\\\n\", self.children)\n",
    "        s = self.begin_tex + \"\\n\" + lines.tex + \"\\n\" + self.end_tex\n",
    "        return s\n",
    "\n",
    "\n",
    "# Should we have special consideration for alignment with & ?\n",
    "class TexAlign(TexList):\n",
    "    def __init__(self, children: Collection[TNS]) -> None:\n",
    "        super().__init__(\"align\", children)\n",
    "\n",
    "\n",
    "class TexParen(TexNode):\n",
    "    def __init__(self, child: TNS) -> None:\n",
    "        super().__init__()\n",
    "        self.child = to_node(child)\n",
    "        \n",
    "    @property\n",
    "    def tex(self) -> str:\n",
    "        return \"\\\\left( \" + self.child.tex + \" \\\\right)\""
   ]
  },
  {
   "cell_type": "code",
   "execution_count": 6,
   "metadata": {},
   "outputs": [
    {
     "data": {
      "text/markdown": [
       "$$\\frac{{\\color{blue}x}}{{\\color{red}y}}$$"
      ],
      "text/plain": [
       "<IPython.core.display.Markdown object>"
      ]
     },
     "metadata": {},
     "output_type": "display_data"
    }
   ],
   "source": [
    "x = TexColored(\"x\", \"blue\")\n",
    "y = TexColored(\"y\", \"red\")\n",
    "xy = x / y\n",
    "xy.display()"
   ]
  },
  {
   "cell_type": "code",
   "execution_count": 7,
   "metadata": {},
   "outputs": [
    {
     "data": {
      "text/markdown": [
       "$$\\begin{align}\n",
       "{\\color{blue}x}\\\\\n",
       "{\\color{red}y}\n",
       "\\end{align}$$"
      ],
      "text/plain": [
       "<IPython.core.display.Markdown object>"
      ]
     },
     "metadata": {},
     "output_type": "display_data"
    }
   ],
   "source": [
    "TexAlign([x,y]).display()"
   ]
  },
  {
   "cell_type": "code",
   "execution_count": 8,
   "metadata": {},
   "outputs": [
    {
     "data": {
      "text/markdown": [
       "$$\\begin{align}\n",
       "x &= y^2\\\\\n",
       "y &= 2z + \\pi\n",
       "\\end{align}$$"
      ],
      "text/plain": [
       "<IPython.core.display.Markdown object>"
      ]
     },
     "metadata": {},
     "output_type": "display_data"
    }
   ],
   "source": [
    "TexAlign([\"x &= y^2\", \"y &= 2z + \\\\pi\"]).display()"
   ]
  },
  {
   "cell_type": "code",
   "execution_count": null,
   "metadata": {},
   "outputs": [],
   "source": []
  },
  {
   "cell_type": "markdown",
   "metadata": {},
   "source": [
    "### Bayes rule example"
   ]
  },
  {
   "cell_type": "code",
   "execution_count": 9,
   "metadata": {},
   "outputs": [],
   "source": [
    "#|export\n",
    "\n",
    "class Prob(TexNode):\n",
    "    cond: Optional[TexNode]\n",
    "    def __init__(self, event: Union[str, TexNode], cond: Optional[Union[str, TexNode]] = None) -> None:\n",
    "        super().__init__()\n",
    "        self.event = to_node(event)\n",
    "        if cond is None:\n",
    "            self.cond = None\n",
    "        else:\n",
    "            self.cond = to_node(cond)\n",
    "\n",
    "    @property\n",
    "    def tex(self) -> str:\n",
    "        s = \"\\\\mathrm{P}\\\\left( \" + self.event.tex\n",
    "        if self.cond is not None:\n",
    "            s += \"\\\\mid \" + self.cond.tex\n",
    "        s +=  \" \\\\right)\"\n",
    "        return s"
   ]
  },
  {
   "cell_type": "code",
   "execution_count": 10,
   "metadata": {},
   "outputs": [
    {
     "data": {
      "text/markdown": [
       "$$\\mathrm{P}\\left( {\\color{red}A}\\mid {\\color{blue}B} \\right)  =  \\frac{\\mathrm{P}\\left( {\\color{blue}B}\\mid {\\color{red}A} \\right) \\mathrm{P}\\left( {\\color{red}A} \\right)}{\\mathrm{P}\\left( {\\color{blue}B} \\right)}$$"
      ],
      "text/plain": [
       "<IPython.core.display.Markdown object>"
      ]
     },
     "metadata": {},
     "output_type": "display_data"
    }
   ],
   "source": [
    "# Putting this in a function to avoid polluting global scope\n",
    "\n",
    "def example_bayes_rule():\n",
    "    a = TexColored(\"A\", \"red\")\n",
    "    b = TexColored(\"B\", \"blue\")\n",
    "    left = Prob(a, b)\n",
    "    right_num = Prob(b, a) + Prob(a)\n",
    "    right_den = Prob(b)\n",
    "    right = right_num / right_den\n",
    "    eq: TexNode = left + \" = \" + right\n",
    "    eq.display()\n",
    "\n",
    "example_bayes_rule()"
   ]
  },
  {
   "cell_type": "markdown",
   "metadata": {},
   "source": [
    "$$\n",
    "\\begin{bmatrix}\n",
    "1 & 2 & 3\\\\\n",
    "a & b & c\n",
    "\\end{bmatrix}\n",
    "$$"
   ]
  },
  {
   "cell_type": "code",
   "execution_count": 11,
   "metadata": {},
   "outputs": [],
   "source": [
    "#|export\n",
    "class TexMatrix(TexNode):\n",
    "    def __init__(self, els: Collection[Collection[TNS]]) -> None:\n",
    "        super().__init__()\n",
    "        self.els = tuple([tuple([to_node(x) for x in row]) for row in els])\n",
    "    @property\n",
    "    def tex(self) -> str:\n",
    "        s = \"\\\\begin{bmatrix}\\n\"\n",
    "        lines = [jointex(\" & \", row) for row in self.els]\n",
    "        s_content = jointex(\"\\\\\\\\\\n\", lines)\n",
    "        s += s_content.tex\n",
    "        s += \"\\n\\\\end{bmatrix}\"\n",
    "        return s\n",
    "    @property\n",
    "    def n_rows(self) -> int:\n",
    "        return len(self.els)\n",
    "    \n",
    "    @property\n",
    "    def n_cols(self) -> int:\n",
    "        return len(self.els[0])\n",
    "\n",
    "def multiply_matrices(m0: TexMatrix, m1: TexMatrix) -> TexMatrix:\n",
    "    # Check that this multiplication is defined\n",
    "    if m0.n_cols != m1.n_rows:\n",
    "        raise ValueError(f\"When multiplying matrices A x B, A.n_cols must equal B.n_rows. {m0.n_cols} != {m1.n_rows}\")\n",
    "    n_rows = m0.n_rows\n",
    "    n_cols = m1.n_cols\n",
    "    els_out = [[None for _ in range(n_cols)] for _ in range(n_rows)]\n",
    "    for r in range(n_rows):\n",
    "        for c in range(n_cols):\n",
    "            terms = []\n",
    "            for r2 in range(m1.n_rows):\n",
    "                for c2 in range(m0.n_cols):\n",
    "                    terms.append(m0.els[r][c2] * m1.els[r2][c])\n",
    "            node = jointex(\" + \", terms)\n",
    "            els_out[r][c] = node\n",
    "    m_out = TexMatrix(els_out)\n",
    "    return m_out"
   ]
  },
  {
   "cell_type": "code",
   "execution_count": 12,
   "metadata": {},
   "outputs": [
    {
     "data": {
      "text/markdown": [
       "$$\\begin{bmatrix}\n",
       "x\\\\\n",
       "y\n",
       "\\end{bmatrix}$$"
      ],
      "text/plain": [
       "<IPython.core.display.Markdown object>"
      ]
     },
     "metadata": {},
     "output_type": "display_data"
    },
    {
     "data": {
      "text/markdown": [
       "$$\\begin{bmatrix}\n",
       "x^0 & x^1\\\\\n",
       "y^0 & {\\color{red}y}^{1}\n",
       "\\end{bmatrix}$$"
      ],
      "text/plain": [
       "<IPython.core.display.Markdown object>"
      ]
     },
     "metadata": {},
     "output_type": "display_data"
    }
   ],
   "source": [
    "data = [[\"x\"], [\"y\"]]\n",
    "TexMatrix(data).display()\n",
    "TexMatrix(\n",
    "    [[\"x^0\", \"x^1\"], [\"y^0\", TexColored(\"y\",\"red\") ** \"1\"]]\n",
    ").display()"
   ]
  },
  {
   "cell_type": "code",
   "execution_count": 13,
   "metadata": {},
   "outputs": [
    {
     "data": {
      "text/markdown": [
       "$$\\begin{bmatrix}\n",
       "x\\\\\n",
       "y\n",
       "\\end{bmatrix} \\cdot \\begin{bmatrix}\n",
       "a & b\n",
       "\\end{bmatrix}  =  \\begin{bmatrix}\n",
       "x \\cdot a & x \\cdot b\\\\\n",
       "y \\cdot a & y \\cdot b\n",
       "\\end{bmatrix}$$"
      ],
      "text/plain": [
       "<IPython.core.display.Markdown object>"
      ]
     },
     "metadata": {},
     "output_type": "display_data"
    }
   ],
   "source": [
    "a = TexMatrix([[\"x\"], [\"y\"]])\n",
    "b = TexMatrix([[\"a\", \"b\"]])\n",
    "m_out = multiply_matrices(a, b)\n",
    "eq = (a * b) + \" = \" + m_out\n",
    "eq.display()"
   ]
  },
  {
   "cell_type": "code",
   "execution_count": 14,
   "metadata": {},
   "outputs": [],
   "source": [
    "#|export\n",
    "class TexRoot(TexNode):\n",
    "    def __init__(self, child: TNS, power: Optional[TNS] = None) -> None:\n",
    "        super().__init__()\n",
    "        self.child = to_node(child)\n",
    "        if power is None:\n",
    "            self.power = None\n",
    "        else:\n",
    "            self.power = to_node(power)\n",
    "    @property\n",
    "    def tex(self) -> str:\n",
    "        s = \"\\\\sqrt\"\n",
    "        if self.power is not None:\n",
    "            s += \"[\" + self.power.tex + \"]\"\n",
    "        s += \"{\" + self.child.tex + \"}\"\n",
    "        return s"
   ]
  },
  {
   "cell_type": "code",
   "execution_count": 15,
   "metadata": {},
   "outputs": [
    {
     "data": {
      "text/markdown": [
       "$$\\sqrt{x}$$"
      ],
      "text/plain": [
       "<IPython.core.display.Markdown object>"
      ]
     },
     "metadata": {},
     "output_type": "display_data"
    },
    {
     "data": {
      "text/markdown": [
       "$$\\sqrt[3]{x}$$"
      ],
      "text/plain": [
       "<IPython.core.display.Markdown object>"
      ]
     },
     "metadata": {},
     "output_type": "display_data"
    }
   ],
   "source": [
    "TexRoot(\"x\").display()\n",
    "TexRoot(\"x\", \"3\").display()"
   ]
  },
  {
   "cell_type": "code",
   "execution_count": 16,
   "metadata": {},
   "outputs": [],
   "source": [
    "nb_export('latex_gen.ipynb', 'pytexgen')"
   ]
  }
 ],
 "metadata": {
  "kernelspec": {
   "display_name": "Python 3.10.0 ('ml10')",
   "language": "python",
   "name": "python3"
  },
  "language_info": {
   "codemirror_mode": {
    "name": "ipython",
    "version": 3
   },
   "file_extension": ".py",
   "mimetype": "text/x-python",
   "name": "python",
   "nbconvert_exporter": "python",
   "pygments_lexer": "ipython3",
   "version": "3.10.0"
  },
  "orig_nbformat": 4,
  "vscode": {
   "interpreter": {
    "hash": "da884f93d8befcbe08695f3ad41cd0a903351e95c8a6e93152f1835841bd2e90"
   }
  }
 },
 "nbformat": 4,
 "nbformat_minor": 2
}
