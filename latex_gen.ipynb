{
 "cells": [
  {
   "cell_type": "code",
   "execution_count": 38,
   "metadata": {},
   "outputs": [],
   "source": [
    "#| default_exp core"
   ]
  },
  {
   "cell_type": "code",
   "execution_count": 39,
   "metadata": {},
   "outputs": [],
   "source": [
    "#|export\n",
    "from __future__ import annotations\n",
    "from IPython.display import Markdown, display\n",
    "import os, re\n",
    "from dataclasses import dataclass\n",
    "from typing import Union, Optional, Any, Collection, Iterable, TypeVar\n",
    "\n",
    "from nbdev.export import nb_export"
   ]
  },
  {
   "cell_type": "markdown",
   "metadata": {},
   "source": [
    "# V0 Plans\n",
    "\n",
    "Class for things that can be used in math text - as exponents, subscripts etc\n",
    "\n",
    "Class for environments - align, equation, etc\n",
    "\n",
    "Use IPython display to render\n",
    "\n",
    "# References\n",
    "\n",
    "[Emulating numeric types docs](https://docs.python.org/3/reference/datamodel.html#emulating-numeric-types)"
   ]
  },
  {
   "cell_type": "markdown",
   "metadata": {},
   "source": [
    "## Design Questions\n",
    "\n",
    "What infix operator should I use for concatenation? I want to use `+` for addition, I think. Maybe rshift `>>` ?\n",
    "\n",
    "I can imagine wanting to redefine infix operators in certain domains to match whatever connectives are used in that domain. How tricky will that be? Can we just monkey patch stuff to do that? Do we even want to?\n",
    "\n",
    "How can we make it easy to reference these concisely? Perhaps make each class/function name super short, and then `import pytexgen as tx`."
   ]
  },
  {
   "cell_type": "markdown",
   "metadata": {},
   "source": [
    "# Code"
   ]
  },
  {
   "cell_type": "code",
   "execution_count": 40,
   "metadata": {},
   "outputs": [],
   "source": [
    "#|export\n",
    "def to_node(x: TNS) -> TexNode:\n",
    "    \"\"\"\n",
    "    Converts a raw string to a TexAtom\n",
    "    Returns a TexNode unaltered\n",
    "    \"\"\"\n",
    "    if isinstance(x, str):\n",
    "        return TexAtom(x)\n",
    "    else:\n",
    "        return x\n",
    "\n",
    "class TexBase:\n",
    "    @property\n",
    "    def tex(self) -> str:\n",
    "        raise NotImplementedError(\"Children should implement this\")\n",
    "\n",
    "\n",
    "    def display(self) -> None:\n",
    "        display(Markdown(\"$$\" + self.tex + \"$$\"))\n",
    "\n",
    "\n",
    "class TexNotMath(TexBase):\n",
    "    pass\n",
    "\n",
    "class TexNode(TexBase):\n",
    "    # Methods to mimic arithmetic\n",
    "    # TODO parenthesize objects as needed.\n",
    "    # Maybe by having that as a property of each object\n",
    "    # and making a tex_p property that adds parens if needed\n",
    "    def __init__(self, need_paren: bool=False) -> None:\n",
    "        super().__init__()\n",
    "        self.need_paren = need_paren\n",
    "\n",
    "    # Use self + other\n",
    "    def __add__(self, other: TexNode) -> TexAdd:\n",
    "        return TexAdd([self, other])\n",
    "\n",
    "    # Use self ** other\n",
    "    def __pow__(self, other: TexNode) -> TexPow:\n",
    "        return TexPow(self, other)\n",
    "\n",
    "    # Use self / other\n",
    "    def __truediv__(self, other: TexNode) -> TexFrac:\n",
    "        return TexFrac(self, other)\n",
    "\n",
    "\n",
    "    def __mul__(self, other: TexNode) -> TexMul:\n",
    "        return TexMul([self, other])\n",
    "\n",
    "    def __rshift__(self, other: TNS) -> TexSequence:\n",
    "        return TexSequence((self, other))\n",
    "\n",
    "    @property\n",
    "    def texp(self) -> str:\n",
    "        \"\"\"\n",
    "        Wraps tex with parens, if needed\n",
    "        Call this when you may want to parenthesize this\n",
    "        eg when taking a product\n",
    "        \"\"\"\n",
    "        if self.need_paren:\n",
    "            return TexParen(self).tex\n",
    "        else:\n",
    "            return self.tex\n",
    "            \n",
    "TNS = TypeVar(\"TNS\", bound=Union[str,TexNode])\n",
    "\n",
    "    \n",
    "class TexAtom(TexNode):\n",
    "    s: str\n",
    "    def __init__(self, s: str, need_paren: bool = False) -> None:\n",
    "        super().__init__(need_paren=need_paren)\n",
    "        self.s = s\n",
    "\n",
    "    @property\n",
    "    def tex(self) -> str:\n",
    "        return self.s\n",
    "\n",
    "\n",
    "#| export\n",
    "class TexText(TexNode):\n",
    "    \"\"\"\\\\text{not math}\"\"\"\n",
    "    def __init__(self, s: str, need_paren: bool = False) -> None:\n",
    "        super().__init__(need_paren)\n",
    "        self.s = s\n",
    "\n",
    "    @property\n",
    "    def tex(self) -> str:\n",
    "        return \"\\\\text{\" + str(self.s) + \"}\"\n",
    "\n",
    "\n",
    "\n",
    "class TexSequence(TexNode):\n",
    "    \"\"\"Holds a tuple of children. Displays them with a space separation by default.\"\"\"\n",
    "    children: tuple[TexNode, ...]\n",
    "    def __init__(self, children: Collection[TexNode], sep: str = \" \") -> None:\n",
    "        need_paren = len(children) > 1\n",
    "        super().__init__(need_paren=need_paren)\n",
    "        self.children =  tuple([to_node(c) for c in children])\n",
    "        self.sep = sep\n",
    "    \n",
    "    @property\n",
    "    def tex(self) -> str:\n",
    "        return self.sep.join([c.tex for c in self.children])\n",
    "\n",
    "class TexPow(TexNode):\n",
    "    base: TexNode\n",
    "    exp: TexNode\n",
    "    def __init__(self, base: TNS, exp: TNS) -> None:\n",
    "        super().__init__()\n",
    "        self.base = to_node(base)\n",
    "        self.exp = to_node(exp)\n",
    "    \n",
    "    @property\n",
    "    def tex(self) -> str:\n",
    "        return self.base.tex + \"^{\" + self.exp.tex + \"}\"\n",
    "\n",
    "class TexMul(TexNode):\n",
    "    def __init__(self, children: Collection[TNS], prod_symbol: str = \"\\\\cdot\") -> None:\n",
    "        super().__init__(need_paren=False)\n",
    "        self.children = tuple([to_node(c) for c in children])\n",
    "        self.prod_symbol = prod_symbol\n",
    "    \n",
    "    @property\n",
    "    def tex(self) -> str:\n",
    "        sep = \" \" + self.prod_symbol + \" \"\n",
    "        return sep.join([c.texp for c in self.children])\n",
    "\n",
    "class TexFrac(TexNode):\n",
    "    def __init__(self, num: TNS, den: TNS) -> None:\n",
    "        super().__init__()\n",
    "        self.num = to_node(num)\n",
    "        self.den = to_node(den)\n",
    "\n",
    "    @property\n",
    "    def tex(self) -> str:\n",
    "        return \"\\\\frac{\" + self.num.tex + \"}\" + \"{\" + self.den.tex + \"}\"\n",
    "\n",
    "class TexColored(TexNode):\n",
    "    child: TexNode\n",
    "    color: str\n",
    "    def __init__(self, child: TNS, color: str) -> None:\n",
    "        super().__init__()\n",
    "        child = to_node(child)\n",
    "        self.child = child\n",
    "        self.color = color\n",
    "    \n",
    "    @property\n",
    "    def tex(self) -> str:\n",
    "        return \"{\\\\color{\" + self.color + \"}\" + self.child.tex + \"}\"\n",
    "    \n",
    "\n",
    "class TexParen(TexNode):\n",
    "    \"\"\"Wraps parens around child\"\"\"\n",
    "    def __init__(self, child: TNS, parens: tuple[str,str] = (\"(\", \")\")) -> None:\n",
    "        super().__init__()\n",
    "        self.parens = parens\n",
    "        self.child = to_node(child)\n",
    "        \n",
    "    @property\n",
    "    def tex(self) -> str:\n",
    "        return f\"\\\\left{self.parens[0]} \" + self.child.tex + f\" \\\\right{self.parens[1]}\"\n",
    "\n",
    "class TexTuple(TexNode):\n",
    "    \"\"\"Holds a tuple, comma separated and with parens\"\"\"\n",
    "    def __init__(self, children: Collection[TNS], parens: tuple[str,str] = (\"(\", \")\")) -> None:\n",
    "        super().__init__()\n",
    "        self.children = tuple([to_node(c) for c in children])\n",
    "        self.parens = parens\n",
    "    @property\n",
    "    def tex(self) -> str:\n",
    "        return TexParen(jointex(\", \", self.children), self.parens).tex\n",
    "\n",
    "\n",
    "\n",
    "class TexAdd(TexNode):\n",
    "    \"\"\"a + b\"\"\"\n",
    "    def __init__(self, children: Collection[TNS]) -> None:\n",
    "        need_paren = len(children) > 1\n",
    "        super().__init__(need_paren=need_paren)\n",
    "        self.children = tuple([to_node(c) for c in children])\n",
    "    \n",
    "    @property\n",
    "    def tex(self) -> str:\n",
    "        return \" + \".join([c.tex for c in self.children])\n",
    "\n",
    "def jointex(sep: str,  children: Collection[TexNode]) -> TexAtom:\n",
    "    s = \"\"\n",
    "    for i, c in enumerate(children):\n",
    "        s += c.tex\n",
    "        if i < len(children) - 1:\n",
    "            s += sep\n",
    "    return TexAtom(s)\n",
    "\n",
    "\n",
    "class TexEq(TexSequence):\n",
    "    \"\"\"a = b\"\"\"\n",
    "    def __init__(self, children: Collection[TNS]) -> None:\n",
    "        super().__init__(children, \" = \")\n",
    "\n",
    "class Mathcal(TexNode):\n",
    "    def __init__(self, child: TNS) -> None:\n",
    "        self.child = to_node(child)\n",
    "        super().__init__(need_paren = self.child.need_paren)\n",
    "    @property\n",
    "    def tex(self) -> str:\n",
    "        return \"\\\\mathcal{\" + self.child.tex + \"}\"\n",
    "\n",
    "\n",
    "class TexSub(TexNode):\n",
    "    \"\"\"Subscript\"\"\"\n",
    "    def __init__(self, base: TNS, sub: TNS) -> None:\n",
    "        super().__init__()\n",
    "        self.base = to_node(base)\n",
    "        self.sub = to_node(sub)\n",
    "    \n",
    "    @property\n",
    "    def tex(self) -> str:\n",
    "        return self.base.texp + \"_{\" + self.sub.tex + \"}\"\n",
    "        "
   ]
  },
  {
   "cell_type": "code",
   "execution_count": 41,
   "metadata": {},
   "outputs": [],
   "source": [
    "#|export\n",
    "class TexSetQuant(TexParen):\n",
    "    \"\"\"{x^2 | x \\in X}\"\"\"\n",
    "    def __init__(self, left: TNS, filter: TNS) -> None:\n",
    "        seq = TexSequence([left, \"\\\\mid\", filter])\n",
    "        super().__init__(seq, parens=(\"\\\\{\", \"\\\\}\"))\n"
   ]
  },
  {
   "cell_type": "markdown",
   "metadata": {},
   "source": []
  },
  {
   "cell_type": "code",
   "execution_count": 42,
   "metadata": {},
   "outputs": [],
   "source": [
    "#|export\n",
    "\n",
    "class TexD(TexBase):\n",
    "    \"\"\"Wrapper to tell TexTexConcat to use display mode\"\"\"\n",
    "    def __init__(self, child: TNS) -> None:\n",
    "        super().__init__()\n",
    "        self.child = to_node(child)\n",
    "    \n",
    "    @property\n",
    "    def tex(self) -> str:\n",
    "        return self.child.tex\n",
    "    \n",
    "\n",
    "def wrap_tex_if_needed(x: TNS) -> str:\n",
    "    \"\"\"\n",
    "    Wraps TexD in $$, TexNode in $, and returns strings unchanged.\n",
    "    \"\"\"\n",
    "    if isinstance(x, TexD):\n",
    "        return \"$$\" + x.tex + \"$$\"\n",
    "    elif isinstance(x, TexNotMath):\n",
    "        return x.tex\n",
    "    elif isinstance(x, TexBase):\n",
    "        return \"$\" + x.tex + \"$\"\n",
    "    else:\n",
    "        return x\n",
    "\n",
    "\n",
    "class TexTextConcat(TexNotMath):\n",
    "    \"\"\"\n",
    "    Holds tex and text and whatnot and concatenates it properly\n",
    "    \"\"\"\n",
    "    def __init__(self, *args: list[Union[str, TexBase]]) -> None:\n",
    "        self.children = args\n",
    "    \n",
    "    def to_markdown(self) -> str:\n",
    "        pieces = [wrap_tex_if_needed(c) for c in self.children]\n",
    "        return \"\".join(pieces)\n",
    "\n",
    "    def display(self) -> None:\n",
    "        display(Markdown(self.to_markdown()))\n",
    "\n",
    "    @property\n",
    "    def tex(self) -> str:\n",
    "        return self.to_markdown()"
   ]
  },
  {
   "cell_type": "code",
   "execution_count": null,
   "metadata": {},
   "outputs": [],
   "source": []
  },
  {
   "cell_type": "code",
   "execution_count": 43,
   "metadata": {},
   "outputs": [],
   "source": [
    "#|export\n",
    "class TexEnvironment(TexBase):\n",
    "    def __init__(self, nm: str) -> None:\n",
    "        super().__init__()\n",
    "        self.nm = nm\n",
    "    \n",
    "    @property\n",
    "    def begin_tex(self) -> str:\n",
    "        return \"\\\\begin{\" + self.nm + \"}\"\n",
    "    \n",
    "    @property\n",
    "    def end_tex(self) -> str:\n",
    "        return \"\\\\end{\" + self.nm + \"}\"\n",
    "\n",
    "class TexEnvList(TexEnvironment):\n",
    "    # Should nm instead be a class-level attribute?\n",
    "    def __init__(self,nm: str, children: Collection[TNS]) -> None:\n",
    "        super().__init__(nm)\n",
    "        self.children  = tuple([to_node(c) for c in children])\n",
    "\n",
    "    @property\n",
    "    def tex(self) -> str:\n",
    "        lines = jointex(\"\\\\\\\\\\n\", self.children)\n",
    "        s = self.begin_tex + \"\\n\" + lines.tex + \"\\n\" + self.end_tex\n",
    "        return s\n",
    "\n",
    "\n",
    "# Should we have special consideration for alignment with & ?\n",
    "class TexAlign(TexEnvList):\n",
    "    def __init__(self, children: Collection[TNS]) -> None:\n",
    "        super().__init__(\"align\", children)\n",
    "\n",
    "\n",
    "class TexList(TexNotMath):\n",
    "    \"\"\"BUG Katex doesn't have the itemize environment, so we use markdown for this :/\"\"\"\n",
    "    def __init__(self, children: Collection[TNS], numbered: bool = False) -> None:\n",
    "        self.children = children\n",
    "        self.numbered = numbered\n",
    "\n",
    "    @property\n",
    "    def list_starter(self) -> str:\n",
    "        if self.numbered:\n",
    "            return \"1. \"\n",
    "        else:\n",
    "            return \"- \"\n",
    "\n",
    "    @property\n",
    "    def tex(self) -> str:\n",
    "        pieces = [self.list_starter + wrap_tex_if_needed(c) for c in self.children]\n",
    "        return \"\\n\".join(pieces)\n",
    "\n",
    "    def display(self) -> None:\n",
    "        display(Markdown(self.tex))\n",
    "    "
   ]
  },
  {
   "cell_type": "code",
   "execution_count": 44,
   "metadata": {},
   "outputs": [
    {
     "data": {
      "text/markdown": [
       "- $😄 = x^y$\n",
       "- $🙃 = y^x$\n",
       "- Lists are listeriffic"
      ],
      "text/plain": [
       "<IPython.core.display.Markdown object>"
      ]
     },
     "metadata": {},
     "output_type": "display_data"
    }
   ],
   "source": [
    "TexList([\n",
    "    TexAtom(\"😄 = x^y\"),\n",
    "    TexAtom(\"🙃 = y^x\"),\n",
    "    \"Lists are listeriffic\"\n",
    "]).display()"
   ]
  },
  {
   "cell_type": "code",
   "execution_count": 45,
   "metadata": {},
   "outputs": [
    {
     "data": {
      "text/markdown": [
       "$$\\frac{{\\color{blue}x}}{{\\color{red}y}}$$"
      ],
      "text/plain": [
       "<IPython.core.display.Markdown object>"
      ]
     },
     "metadata": {},
     "output_type": "display_data"
    }
   ],
   "source": [
    "x = TexColored(\"x\", \"blue\")\n",
    "y = TexColored(\"y\", \"red\")\n",
    "xy = x / y\n",
    "xy.display()"
   ]
  },
  {
   "cell_type": "code",
   "execution_count": 46,
   "metadata": {},
   "outputs": [
    {
     "data": {
      "text/markdown": [
       "$$\\begin{align}\n",
       "{\\color{blue}x}\\\\\n",
       "{\\color{red}y}\n",
       "\\end{align}$$"
      ],
      "text/plain": [
       "<IPython.core.display.Markdown object>"
      ]
     },
     "metadata": {},
     "output_type": "display_data"
    }
   ],
   "source": [
    "TexAlign([x,y]).display()"
   ]
  },
  {
   "cell_type": "code",
   "execution_count": 47,
   "metadata": {},
   "outputs": [
    {
     "data": {
      "text/markdown": [
       "$$\\begin{align}\n",
       "x &= y^2\\\\\n",
       "y &= 2z + \\pi\n",
       "\\end{align}$$"
      ],
      "text/plain": [
       "<IPython.core.display.Markdown object>"
      ]
     },
     "metadata": {},
     "output_type": "display_data"
    }
   ],
   "source": [
    "TexAlign([\"x &= y^2\", \"y &= 2z + \\\\pi\"]).display()"
   ]
  },
  {
   "cell_type": "code",
   "execution_count": null,
   "metadata": {},
   "outputs": [],
   "source": []
  },
  {
   "cell_type": "markdown",
   "metadata": {},
   "source": [
    "### Bayes rule example"
   ]
  },
  {
   "cell_type": "code",
   "execution_count": 48,
   "metadata": {},
   "outputs": [],
   "source": [
    "#|export\n",
    "\n",
    "class Prob(TexNode):\n",
    "    cond: Optional[TexNode]\n",
    "    def __init__(self, event: Union[str, TexNode], cond: Optional[Union[str, TexNode]] = None) -> None:\n",
    "        super().__init__()\n",
    "        self.event = to_node(event)\n",
    "        if cond is None:\n",
    "            self.cond = None\n",
    "        else:\n",
    "            self.cond = to_node(cond)\n",
    "\n",
    "    @property\n",
    "    def tex(self) -> str:\n",
    "        s = \"\\\\mathrm{P}\\\\left( \" + self.event.tex\n",
    "        if self.cond is not None:\n",
    "            s += \"\\\\mid \" + self.cond.tex\n",
    "        s +=  \" \\\\right)\"\n",
    "        return s"
   ]
  },
  {
   "cell_type": "code",
   "execution_count": 49,
   "metadata": {},
   "outputs": [
    {
     "data": {
      "text/markdown": [
       "$$\\mathrm{P}\\left( {\\color{red}A}\\mid {\\color{blue}B} \\right)  =  \\frac{\\mathrm{P}\\left( {\\color{blue}B}\\mid {\\color{red}A} \\right) + \\mathrm{P}\\left( {\\color{red}A} \\right)}{\\mathrm{P}\\left( {\\color{blue}B} \\right)}$$"
      ],
      "text/plain": [
       "<IPython.core.display.Markdown object>"
      ]
     },
     "metadata": {},
     "output_type": "display_data"
    }
   ],
   "source": [
    "# Putting this in a function to avoid polluting global scope\n",
    "\n",
    "def example_bayes_rule():\n",
    "    a = TexColored(\"A\", \"red\")\n",
    "    b = TexColored(\"B\", \"blue\")\n",
    "    left = Prob(a, b)\n",
    "    right_num = Prob(b, a) + Prob(a)\n",
    "    right_den = Prob(b)\n",
    "    right = right_num / right_den\n",
    "    eq: TexNode = left >> \" = \" >> right\n",
    "    eq.display()\n",
    "\n",
    "example_bayes_rule()"
   ]
  },
  {
   "cell_type": "markdown",
   "metadata": {},
   "source": [
    "$$\n",
    "\\begin{bmatrix}\n",
    "1 & 2 & 3\\\\\n",
    "a & b & c\n",
    "\\end{bmatrix}\n",
    "$$"
   ]
  },
  {
   "cell_type": "code",
   "execution_count": 50,
   "metadata": {},
   "outputs": [],
   "source": [
    "#|export\n",
    "class TexMatrix(TexNode):\n",
    "    def __init__(self, els: Collection[Collection[TNS]]) -> None:\n",
    "        super().__init__()\n",
    "        self.els = tuple([tuple([to_node(x) for x in row]) for row in els])\n",
    "    @property\n",
    "    def tex(self) -> str:\n",
    "        s = \"\\\\begin{bmatrix}\\n\"\n",
    "        lines = [jointex(\" & \", row) for row in self.els]\n",
    "        s_content = jointex(\"\\\\\\\\\\n\", lines)\n",
    "        s += s_content.tex\n",
    "        s += \"\\n\\\\end{bmatrix}\"\n",
    "        return s\n",
    "    @property\n",
    "    def n_rows(self) -> int:\n",
    "        return len(self.els)\n",
    "    \n",
    "    @property\n",
    "    def n_cols(self) -> int:\n",
    "        return len(self.els[0])\n",
    "\n",
    "def multiply_matrices(m0: TexMatrix, m1: TexMatrix) -> TexMatrix:\n",
    "    # Check that this multiplication is defined\n",
    "    if m0.n_cols != m1.n_rows:\n",
    "        raise ValueError(f\"When multiplying matrices A x B, A.n_cols must equal B.n_rows. {m0.n_cols} != {m1.n_rows}\")\n",
    "    n_rows = m0.n_rows\n",
    "    n_cols = m1.n_cols\n",
    "    els_out = [[None for _ in range(n_cols)] for _ in range(n_rows)]\n",
    "    for r in range(n_rows):\n",
    "        for c in range(n_cols):\n",
    "            terms = []\n",
    "            for r2 in range(m1.n_rows):\n",
    "                for c2 in range(m0.n_cols):\n",
    "                    terms.append(m0.els[r][c2] * m1.els[r2][c])\n",
    "            node = jointex(\" + \", terms)\n",
    "            els_out[r][c] = node\n",
    "    m_out = TexMatrix(els_out)\n",
    "    return m_out"
   ]
  },
  {
   "cell_type": "code",
   "execution_count": 51,
   "metadata": {},
   "outputs": [
    {
     "data": {
      "text/markdown": [
       "$$\\begin{bmatrix}\n",
       "x\\\\\n",
       "y\n",
       "\\end{bmatrix}$$"
      ],
      "text/plain": [
       "<IPython.core.display.Markdown object>"
      ]
     },
     "metadata": {},
     "output_type": "display_data"
    },
    {
     "data": {
      "text/markdown": [
       "$$\\begin{bmatrix}\n",
       "x^0 & x^1\\\\\n",
       "y^0 & {\\color{red}y}^{1}\n",
       "\\end{bmatrix}$$"
      ],
      "text/plain": [
       "<IPython.core.display.Markdown object>"
      ]
     },
     "metadata": {},
     "output_type": "display_data"
    }
   ],
   "source": [
    "data = [[\"x\"], [\"y\"]]\n",
    "TexMatrix(data).display()\n",
    "TexMatrix(\n",
    "    [[\"x^0\", \"x^1\"], [\"y^0\", TexColored(\"y\",\"red\") ** \"1\"]]\n",
    ").display()"
   ]
  },
  {
   "cell_type": "code",
   "execution_count": 52,
   "metadata": {},
   "outputs": [
    {
     "data": {
      "text/markdown": [
       "$$\\begin{bmatrix}\n",
       "x\\\\\n",
       "y\n",
       "\\end{bmatrix} \\cdot \\begin{bmatrix}\n",
       "a & b\n",
       "\\end{bmatrix}  =  \\begin{bmatrix}\n",
       "x \\cdot a & x \\cdot b\\\\\n",
       "y \\cdot a & y \\cdot b\n",
       "\\end{bmatrix}$$"
      ],
      "text/plain": [
       "<IPython.core.display.Markdown object>"
      ]
     },
     "metadata": {},
     "output_type": "display_data"
    }
   ],
   "source": [
    "a = TexMatrix([[\"x\"], [\"y\"]])\n",
    "b = TexMatrix([[\"a\", \"b\"]])\n",
    "m_out = multiply_matrices(a, b)\n",
    "eq = (a * b) >> \" = \" >> m_out\n",
    "eq.display()"
   ]
  },
  {
   "cell_type": "code",
   "execution_count": 53,
   "metadata": {},
   "outputs": [],
   "source": [
    "#|export\n",
    "class TexRoot(TexNode):\n",
    "    def __init__(self, child: TNS, power: Optional[TNS] = None) -> None:\n",
    "        super().__init__()\n",
    "        self.child = to_node(child)\n",
    "        if power is None:\n",
    "            self.power = None\n",
    "        else:\n",
    "            self.power = to_node(power)\n",
    "    @property\n",
    "    def tex(self) -> str:\n",
    "        s = \"\\\\sqrt\"\n",
    "        if self.power is not None:\n",
    "            s += \"[\" + self.power.tex + \"]\"\n",
    "        s += \"{\" + self.child.tex + \"}\"\n",
    "        return s"
   ]
  },
  {
   "cell_type": "code",
   "execution_count": 54,
   "metadata": {},
   "outputs": [
    {
     "data": {
      "text/markdown": [
       "$$\\sqrt{x}$$"
      ],
      "text/plain": [
       "<IPython.core.display.Markdown object>"
      ]
     },
     "metadata": {},
     "output_type": "display_data"
    },
    {
     "data": {
      "text/markdown": [
       "$$\\sqrt[3]{x}$$"
      ],
      "text/plain": [
       "<IPython.core.display.Markdown object>"
      ]
     },
     "metadata": {},
     "output_type": "display_data"
    }
   ],
   "source": [
    "TexRoot(\"x\").display()\n",
    "TexRoot(\"x\", \"3\").display()"
   ]
  },
  {
   "cell_type": "code",
   "execution_count": 55,
   "metadata": {},
   "outputs": [
    {
     "data": {
      "text/markdown": [
       "$$\\left( x + y \\right) \\cdot z$$"
      ],
      "text/plain": [
       "<IPython.core.display.Markdown object>"
      ]
     },
     "metadata": {},
     "output_type": "display_data"
    }
   ],
   "source": [
    "((TexAtom(\"x\") + TexAtom(\"y\")) * TexAtom(\"z\")).display()"
   ]
  },
  {
   "cell_type": "code",
   "execution_count": 56,
   "metadata": {},
   "outputs": [],
   "source": [
    "nb_export('latex_gen.ipynb', 'pytexgen')"
   ]
  }
 ],
 "metadata": {
  "kernelspec": {
   "display_name": "Python 3.10.0 ('ml10')",
   "language": "python",
   "name": "python3"
  },
  "language_info": {
   "codemirror_mode": {
    "name": "ipython",
    "version": 3
   },
   "file_extension": ".py",
   "mimetype": "text/x-python",
   "name": "python",
   "nbconvert_exporter": "python",
   "pygments_lexer": "ipython3",
   "version": "3.10.0"
  },
  "orig_nbformat": 4,
  "vscode": {
   "interpreter": {
    "hash": "da884f93d8befcbe08695f3ad41cd0a903351e95c8a6e93152f1835841bd2e90"
   }
  }
 },
 "nbformat": 4,
 "nbformat_minor": 2
}
